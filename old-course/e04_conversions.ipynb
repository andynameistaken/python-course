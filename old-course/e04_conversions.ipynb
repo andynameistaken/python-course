{
 "cells": [
  {
   "cell_type": "code",
   "execution_count": 1,
   "metadata": {
    "collapsed": true
   },
   "outputs": [
    {
     "name": "stdout",
     "output_type": "stream",
     "text": [
      "{'a': 1, 'b': 2, 'c': 3, 'd': 4, 'e': 5}\n"
     ]
    }
   ],
   "source": [
    "import itertools\n",
    "lst_1 = [\"a\", \"b\", \"c\", \"d\", \"e\"]\n",
    "lst_2 = [1, 2, 3, 4, 5, 6, 7, 8, 9]\n",
    "\n",
    "a = dict(one=1, two=2, three=3)\n",
    "dictionary = dict(zip(lst_1,lst_2))\n",
    "print(dictionary)\n",
    "s_1 = {\"cheap\",\"expensive\",\"inexpensive\",\"economical\"}"
   ]
  }
 ],
 "metadata": {
  "kernelspec": {
   "display_name": "Python 3",
   "language": "python",
   "name": "python3"
  },
  "language_info": {
   "codemirror_mode": {
    "name": "ipython",
    "version": 2
   },
   "file_extension": ".py",
   "mimetype": "text/x-python",
   "name": "python",
   "nbconvert_exporter": "python",
   "pygments_lexer": "ipython2",
   "version": "2.7.6"
  }
 },
 "nbformat": 4,
 "nbformat_minor": 0
}