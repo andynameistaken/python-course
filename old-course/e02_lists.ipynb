{
 "cells": [
  {
   "cell_type": "code",
   "execution_count": null,
   "outputs": [],
   "source": [
    "lst = [\"a\", \"b\", \"c\", \"d\"]\n",
    "\n",
    "print(lst[::2])\n",
    "\n",
    "if \"c\" in lst:\n",
    "    print(\"c in lst\")\n",
    "if \"x\" not in lst:\n",
    "    print(\"x not in lst\")\n"
   ],
   "metadata": {
    "collapsed": false,
    "pycharm": {
     "name": "#%%\n"
    }
   }
  },
  {
   "cell_type": "code",
   "execution_count": null,
   "outputs": [],
   "source": [
    "ref_lst = [lst] * 2\n",
    "print(ref_lst)\n",
    "print(ref_lst[0])\n",
    "ref_lst[0][0] = \"$\"\n",
    "print(ref_lst)\n",
    "print(lst)\n",
    "print(lst.index(\"d\"))\n",
    "lst.insert(1, \"X\")\n",
    "print(lst)"
   ],
   "metadata": {
    "collapsed": false,
    "pycharm": {
     "name": "#%%\n"
    }
   }
  },
  {
   "cell_type": "code",
   "execution_count": null,
   "outputs": [],
   "source": [
    "# shallow copy and deep copy\n",
    "\n",
    "# shallow\n",
    "lst_x = [\"Red\", \"Green\", [\"Violet\", \"Fuchsia\"]]\n",
    "lst_y = lst_x.copy()\n",
    "lst_y[2][0] = \"Indigo\"\n",
    "print(lst_x)\n",
    "print(lst_y)\n",
    "\n",
    "# deep copy\n",
    "from copy import deepcopy\n",
    "lst_y = deepcopy(lst_x)\n",
    "lst_y[2][0] = \"Orange\"\n",
    "print(lst_x)\n",
    "print(lst_y)\n"
   ],
   "metadata": {
    "collapsed": false,
    "pycharm": {
     "name": "#%%\n"
    }
   }
  }
 ],
 "metadata": {
  "kernelspec": {
   "display_name": "Python 3",
   "language": "python",
   "name": "python3"
  },
  "language_info": {
   "codemirror_mode": {
    "name": "ipython",
    "version": 2
   },
   "file_extension": ".py",
   "mimetype": "text/x-python",
   "name": "python",
   "nbconvert_exporter": "python",
   "pygments_lexer": "ipython2",
   "version": "2.7.6"
  }
 },
 "nbformat": 4,
 "nbformat_minor": 0
}