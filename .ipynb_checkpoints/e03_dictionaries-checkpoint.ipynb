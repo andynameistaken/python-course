{
 "cells": [
  {
   "cell_type": "code",
   "execution_count": null,
   "metadata": {
    "collapsed": true,
    "pycharm": {
     "name": "#%%\n"
    }
   },
   "outputs": [],
   "source": [
    "\n",
    "city_population = {\n",
    "                   \"New York City\": 8550405,\n",
    "                   \"Los Angeles\": 3971883,\n",
    "                   \"Toronto\": 2731571,\n",
    "                   \"Chicago\": 2720546,\n",
    "                   \"Houston\": 2296224,\n",
    "                   \"Montreal\": 1704694,\n",
    "                   \"Calgary\": 1239220,\n",
    "                   \"Vancouver\": 631486,\n",
    "                   \"Boston\": 667137\n",
    "                   }\n",
    "print(city_population[\"Boston\"])\n",
    "city_population[\"Radom\"] = 5\n",
    "print(city_population)"
   ]
  },
  {
   "cell_type": "code",
   "execution_count": null,
   "metadata": {
    "pycharm": {
     "name": "#%%\n"
    }
   },
   "outputs": [],
   "source": [
    "# tuples as keys\n",
    "\n",
    "dic = {\n",
    "        (1,2,3): \"abc\",\n",
    "        (4,5,6): \"def\"\n",
    "      }\n",
    "\n",
    "print(dic[(1,2,3)])\n",
    "\n",
    "\n",
    "dic_2 = {1:\"a\", 2:\"b\", 3:\"c\", 4: \"d\"}\n",
    "print(dic_2)\n",
    "del dic_2[4]\n",
    "print(dic_2)\n",
    "print(len(dic_2))\n",
    "print(3 in dic_2)\n",
    "print(6 not in dic_2)\n",
    "\n",
    "if 3 in dic_2:\n",
    "    item = dic_2.pop(3)\n",
    "print(item)\n",
    "print(\"hello\")\n",
    "\n",
    "item = dic_2.pop(3,\"Not found\")\n",
    "print(item)\n",
    "\n"
   ]
  },
  {
   "cell_type": "code",
   "execution_count": null,
   "metadata": {
    "pycharm": {
     "name": "#%%\n"
    }
   },
   "outputs": [],
   "source": [
    "item_1 = dic_2.get(2)\n",
    "print(item_1)\n",
    "print(dic_2)\n",
    "item_1 = dic_2.get(6)\n",
    "print(item_1)\n",
    "item_1 = dic_2.get(6, 555)\n",
    "print(item_1)\n"
   ]
  },
  {
   "cell_type": "code",
   "execution_count": 3,
   "metadata": {
    "pycharm": {
     "name": "#%%\n"
    }
   },
   "outputs": [],
   "source": [
    "trainings = { \"course1\": {\"title\": \"Python Training Course for Beginners\",\n",
    "                         \"location\": \"Frankfurt\",\n",
    "                         \"trainer\": \"Steve G. Snake\"},\n",
    "              \"course2\": {\"title\": \"Intermediate Python Training\",\n",
    "                         \"location\": \"Berlin\",\n",
    "                         \"trainer\": \"Ella M. Charming\"},\n",
    "              \"course3\": {\"title\": \"Python Text Processing Course\",\n",
    "                         \"location\": \"München\",\n",
    "                         \"trainer\": \"Monica A. Snowdon\"}\n",
    "              }\n",
    "trainings_cp =  trainings.copy()\n",
    "trainings[\"course1\"] =  {\"title\": \"Perl Seminar for Beginners\",\n",
    "                         \"location\": \"Ulm\",\n",
    "                         \"trainer\": \"James D. Morgan\"}\n",
    "print(trainings)\n"
   ]
  }
 ],
 "metadata": {
  "kernelspec": {
   "display_name": "Python 3",
   "language": "python",
   "name": "python3"
  },
  "language_info": {
   "codemirror_mode": {
    "name": "ipython",
    "version": 3
   },
   "file_extension": ".py",
   "mimetype": "text/x-python",
   "name": "python",
   "nbconvert_exporter": "python",
   "pygments_lexer": "ipython3",
   "version": "3.8.5"
  }
 },
 "nbformat": 4,
 "nbformat_minor": 1
}
