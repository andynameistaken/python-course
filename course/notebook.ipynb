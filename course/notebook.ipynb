{
 "cells": [
  {
   "cell_type": "markdown",
   "source": [
    "# Python Course\n",
    "## Variables and Data Types\n",
    "### Numbers\n"
   ],
   "metadata": {
    "collapsed": false
   }
  },
  {
   "cell_type": "code",
   "execution_count": 24,
   "outputs": [
    {
     "name": "stdout",
     "output_type": "stream",
     "text": [
      "8\n",
      "10\n",
      "7\n"
     ]
    }
   ],
   "source": [
    "octal = 0o10\n",
    "print(octal)\n",
    "\n",
    "hexadecimal = 0xA\n",
    "print(hexadecimal)\n",
    "\n",
    "binary = 0b111\n",
    "print(binary)"
   ],
   "metadata": {
    "collapsed": false,
    "pycharm": {
     "name": "#%%\n"
    }
   }
  },
  {
   "cell_type": "markdown",
   "source": [
    "#### Number functions:\n",
    "The functions hex, bin, oct can be used to convert an integer number into the corresponding string representation of the integer number:"
   ],
   "metadata": {
    "collapsed": false
   }
  },
  {
   "cell_type": "code",
   "execution_count": 25,
   "outputs": [
    {
     "name": "stdout",
     "output_type": "stream",
     "text": [
      "0xa\n"
     ]
    },
    {
     "data": {
      "text/plain": "str"
     },
     "execution_count": 25,
     "metadata": {},
     "output_type": "execute_result"
    }
   ],
   "source": [
    "print(hex(10))\n",
    "# output is a String\n",
    "type(hex(20))\n",
    "\n"
   ],
   "metadata": {
    "collapsed": false,
    "pycharm": {
     "name": "#%%\n"
    }
   }
  },
  {
   "cell_type": "code",
   "execution_count": 26,
   "outputs": [
    {
     "name": "stdout",
     "output_type": "stream",
     "text": [
      "139421472706236791468735287967015707232606232113998186759762284283203248267399327423485002476018294548027207658124580006956269122224761375615358997681237349433785401584729106693395255281491169142017082115307947771801954704567433211464560639140944673635364155016693389201613594038984686916178623702578352190636251776039742101384851474311083735102877993131212196962695464654469816719202970619252343026646014132485548307935847260900441555694943498191955672798596377459777392636575523873495086339994375985976543710570091438233257228420529594557457359609723639787519567621434999954843382100489400924995961904023259324301047965917783124275162880514542735528152228927483841372844810255470399471841348890379437250393401562476664019972812975660227449988177768002661436897984534184331079950399306756818061310948084534985374661203278436590349231431071569402389429768922180485838968764968523571261288038064310442585283933256404572748606640151307376800250725427496845607662821346676098703361\n"
     ]
    }
   ],
   "source": [
    "# Integers have unlimited size:\n",
    "x = 9\n",
    "for i in range(10):\n",
    "    x *= x\n",
    "print(x)"
   ],
   "metadata": {
    "collapsed": false,
    "pycharm": {
     "name": "#%%\n"
    }
   }
  },
  {
   "cell_type": "code",
   "execution_count": 27,
   "outputs": [
    {
     "name": "stdout",
     "output_type": "stream",
     "text": [
      "3.0\n",
      "3.0\n",
      "3\n"
     ]
    }
   ],
   "source": [
    "print(10 // 3.0)\n",
    "print(10.0 // 3)\n",
    "print(10 // 3)"
   ],
   "metadata": {
    "collapsed": false,
    "pycharm": {
     "name": "#%%\n"
    }
   }
  },
  {
   "cell_type": "markdown",
   "source": [
    "#### Lists\n",
    "•They are ordered\n",
    "•The contain arbitrary objects\n",
    "•Elements of a list can be accessed by an index\n",
    "•They are arbitrarily nestable, i.e. they can contain other lists as sublists\n",
    "•Variable size\n",
    "•They are mutable, i.e. the elements of a list can be changed\n",
    "\n",
    "#### Tuples\n",
    "•Tuples are faster than lists.\n",
    "•If you know that some data doesn't have to be changed, you should use tuples instead of lists, because this protects your data against accidental changes.\n",
    "•The main advantage of tuples is that tuples can be used as keys in dictionaries, while lists can't.\n",
    "\n",
    "\n"
   ],
   "metadata": {
    "collapsed": false
   }
  },
  {
   "cell_type": "code",
   "execution_count": 28,
   "outputs": [
    {
     "name": "stdout",
     "output_type": "stream",
     "text": [
      "tuples\n"
     ]
    }
   ],
   "source": [
    "t = (\"tuples\", \"are\", \"immutable\")\n",
    "print(t[0])\n",
    "# t[0] = \"wrong\""
   ],
   "metadata": {
    "collapsed": false,
    "pycharm": {
     "name": "#%%\n"
    }
   }
  },
  {
   "cell_type": "markdown",
   "source": [
    "#### Slicing"
   ],
   "metadata": {
    "collapsed": false
   }
  },
  {
   "cell_type": "code",
   "execution_count": 29,
   "outputs": [
    {
     "name": "stdout",
     "output_type": "stream",
     "text": [
      "['a', 'b', 'c', 'd', 'e', 'f']\n",
      "['a', 'b', 'c', 'd', 'e']\n",
      "['b']\n"
     ]
    }
   ],
   "source": [
    "letters = [\"a\", \"b\", \"c\", \"d\", \"e\", \"f\"]\n",
    "print(letters[:])\n",
    "print(letters[:-1])\n",
    "print(letters[1:2:1])\n"
   ],
   "metadata": {
    "collapsed": false,
    "pycharm": {
     "name": "#%%\n"
    }
   }
  },
  {
   "cell_type": "markdown",
   "source": [
    "#### Pop Apend\n"
   ],
   "metadata": {
    "collapsed": false
   }
  },
  {
   "cell_type": "code",
   "execution_count": 30,
   "outputs": [
    {
     "name": "stdout",
     "output_type": "stream",
     "text": [
      "[1, 2, 3, 4]\n",
      "[1, 2, 4]\n"
     ]
    }
   ],
   "source": [
    "numbers = [1, 2, 3]\n",
    "numbers.append(4)\n",
    "print(numbers)\n",
    "\n",
    "numbers.pop(2)\n",
    "print(numbers)\n",
    "\n",
    "\n"
   ],
   "metadata": {
    "collapsed": false,
    "pycharm": {
     "name": "#%%\n"
    }
   }
  },
  {
   "cell_type": "code",
   "execution_count": 31,
   "outputs": [
    {
     "name": "stdout",
     "output_type": "stream",
     "text": [
      "[1, 2, 3, 3, 4, 5]\n",
      "[1, 2, 3, 3, 4, 5, 't', 'e', 'x', 't']\n"
     ]
    }
   ],
   "source": [
    "# Extend\n",
    "numbers = [1, 2, 3]\n",
    "numbers.extend([3, 4, 5])\n",
    "print(numbers)\n",
    "numbers.extend(\"text\")\n",
    "print(numbers)\n",
    "numbers.extend((\"tuple\", \"strings\"))"
   ],
   "metadata": {
    "collapsed": false,
    "pycharm": {
     "name": "#%%\n"
    }
   }
  },
  {
   "cell_type": "code",
   "execution_count": 32,
   "outputs": [
    {
     "name": "stdout",
     "output_type": "stream",
     "text": [
      "0.021065950393676758\n",
      "0.04181313514709473\n"
     ]
    }
   ],
   "source": [
    "# What to look for:\n",
    "import time\n",
    "n = 100000\n",
    "# start_time = time.time()\n",
    "# big_numbers = []\n",
    "# for i in range(n):\n",
    "#     big_numbers = big_numbers + [i * 2]\n",
    "# print(time.time()  - start_time)\n",
    "\n",
    "start_time = time.time()\n",
    "big_numbers = []\n",
    "for i in range(n):\n",
    "    big_numbers += [i * 2]\n",
    "print(time.time()  - start_time)\n",
    "\n",
    "start_time = time.time()\n",
    "big_numbers = []\n",
    "for i in range(n):\n",
    "    big_numbers.append([i * 2])\n",
    "print(time.time()  - start_time)\n"
   ],
   "metadata": {
    "collapsed": false,
    "pycharm": {
     "name": "#%%\n"
    }
   }
  },
  {
   "cell_type": "code",
   "execution_count": 33,
   "outputs": [
    {
     "name": "stdout",
     "output_type": "stream",
     "text": [
      "[2, 3]\n"
     ]
    }
   ],
   "source": [
    "# Removing an element with remove\n",
    "numbers = [1, 2, 3]\n",
    "numbers.remove(1)\n",
    "print(numbers)"
   ],
   "metadata": {
    "collapsed": false,
    "pycharm": {
     "name": "#%%\n"
    }
   }
  },
  {
   "cell_type": "code",
   "execution_count": 34,
   "outputs": [
    {
     "name": "stdout",
     "output_type": "stream",
     "text": [
      "1\n",
      "2\n"
     ]
    },
    {
     "ename": "ValueError",
     "evalue": "'b' is not in list",
     "output_type": "error",
     "traceback": [
      "\u001B[0;31m---------------------------------------------------------------------------\u001B[0m",
      "\u001B[0;31mValueError\u001B[0m                                Traceback (most recent call last)",
      "\u001B[0;32m<ipython-input-34-6f8a61d74a00>\u001B[0m in \u001B[0;36m<module>\u001B[0;34m\u001B[0m\n\u001B[1;32m      3\u001B[0m \u001B[0mprint\u001B[0m\u001B[0;34m(\u001B[0m\u001B[0mletters\u001B[0m\u001B[0;34m.\u001B[0m\u001B[0mindex\u001B[0m\u001B[0;34m(\u001B[0m\u001B[0;34m\"b\"\u001B[0m\u001B[0;34m)\u001B[0m\u001B[0;34m)\u001B[0m\u001B[0;34m\u001B[0m\u001B[0;34m\u001B[0m\u001B[0m\n\u001B[1;32m      4\u001B[0m \u001B[0mprint\u001B[0m\u001B[0;34m(\u001B[0m\u001B[0mletters\u001B[0m\u001B[0;34m.\u001B[0m\u001B[0mindex\u001B[0m\u001B[0;34m(\u001B[0m\u001B[0;34m\"b\"\u001B[0m\u001B[0;34m,\u001B[0m\u001B[0;36m2\u001B[0m\u001B[0;34m)\u001B[0m\u001B[0;34m)\u001B[0m\u001B[0;34m\u001B[0m\u001B[0;34m\u001B[0m\u001B[0m\n\u001B[0;32m----> 5\u001B[0;31m \u001B[0mprint\u001B[0m\u001B[0;34m(\u001B[0m\u001B[0mnumbers\u001B[0m\u001B[0;34m.\u001B[0m\u001B[0mindex\u001B[0m\u001B[0;34m(\u001B[0m\u001B[0;34m\"b\"\u001B[0m\u001B[0;34m,\u001B[0m\u001B[0;36m4\u001B[0m\u001B[0;34m,\u001B[0m\u001B[0;36m5\u001B[0m\u001B[0;34m)\u001B[0m\u001B[0;34m)\u001B[0m\u001B[0;34m\u001B[0m\u001B[0;34m\u001B[0m\u001B[0m\n\u001B[0m\u001B[1;32m      6\u001B[0m \u001B[0;34m\u001B[0m\u001B[0m\n",
      "\u001B[0;31mValueError\u001B[0m: 'b' is not in list"
     ]
    }
   ],
   "source": [
    "# Find index:\n",
    "letters = [\"a\", \"b\", \"b\", \"b\", \"e\", \"f\"]\n",
    "print(letters.index(\"b\"))\n",
    "print(letters.index(\"b\",2))\n",
    "print(numbers.index(\"b\",4,5))"
   ],
   "metadata": {
    "collapsed": false,
    "pycharm": {
     "name": "#%%\n"
    }
   }
  },
  {
   "cell_type": "code",
   "execution_count": null,
   "outputs": [],
   "source": [
    "# Insert\n",
    "#  s.insert(index, object)\n",
    "letters = [\"a\", \"b\", \"b\", \"b\", \"e\", \"f\"]\n",
    "letters.insert(0,0)\n",
    "print(letters)\n",
    "letters.insert(1,2)\n",
    "print(letters)"
   ],
   "metadata": {
    "collapsed": false,
    "pycharm": {
     "name": "#%%\n"
    }
   }
  },
  {
   "cell_type": "code",
   "execution_count": null,
   "metadata": {},
   "outputs": [],
   "source": [
    "# Dictionaries\n",
    "en_de = {\"red\" : \"rot\", \"green\" : \"grün\", \"blue\" : \"blau\", \"yellow\":\"gelb\"}\n",
    "de_fr = {\"rot\" : \"rouge\", \"grün\" : \"vert\", \"blau\" : \"bleu\", \"gelb\":\"jaune\"}\n",
    "de_tr = {\"rot\": \"kırmızı\", \"grün\": \"yeşil\", \"blau\": \"mavi\", \"gelb\": \"jel\"}\n",
    "en_es = {\"red\" : \"rojo\", \"green\" : \"verde\", \"blue\" : \"azul\", \"yellow\":\"amarillo\"}\n",
    "\n",
    "dictionaries = {\"en_de\" : en_de, \"de_fr\" : de_fr, \"de_tr\": de_tr, \"en_es\": en_es}\n",
    "\n",
    "cn_de = {\"红\": \"rot\", \"绿\" : \"grün\", \"蓝\" : \"blau\", \"黄\" : \"gelb\"}\n",
    "de_ro = {'rot': 'roșu', 'gelb': 'galben', 'blau': 'albastru', 'grün': 'verde'}\n",
    "de_hex = {\"rot\" : \"#FF0000\", \"grün\" : \"#00FF00\", \"blau\" : \"0000FF\", \"gelb\":\"FFFF00\"}\n",
    "en_pl = {\"red\" : \"czerwony\", \"green\" : \"zielony\", \n",
    "         \"blue\" : \"niebieski\", \"yellow\" : \"żółty\"}\n",
    "de_it = {\"rot\": \"rosso\", \"gelb\": \"giallo\", \"blau\": \"blu\", \"grün\": \"verde\"}\n",
    "\n",
    "dictionaries[\"cn_de\"] = cn_de\n",
    "dictionaries[\"de_ro\"] = de_ro\n",
    "dictionaries[\"de_hex\"] = de_hex\n",
    "dictionaries[\"en_pl\"] = en_pl\n",
    "dictionaries[\"de_it\"] = de_it\n",
    "\n",
    "# en -> de -> fr\n",
    "print(de_fr[en_de[\"red\"]])"
   ]
  },
  {
   "cell_type": "code",
   "execution_count": null,
   "metadata": {},
   "outputs": [],
   "source": [
    "for value in de_fr.values():\n",
    "    print(value)"
   ]
  },
  {
   "cell_type": "code",
   "execution_count": null,
   "metadata": {},
   "outputs": [],
   "source": [
    "for key, value in de_fr.items():\n",
    "    print(key, value)"
   ]
  },
  {
   "cell_type": "code",
   "execution_count": null,
   "metadata": {},
   "outputs": [],
   "source": [
    "for item in en_de.items():\n",
    "    print(item)"
   ]
  },
  {
   "cell_type": "code",
   "execution_count": null,
   "metadata": {},
   "outputs": [],
   "source": [
    "# Invert keys and values\n",
    "de_en = {}\n",
    "for item in en_de.items():\n",
    "   de_en[item[1]] = item[0]\n",
    "print(de_en)\n"
   ]
  },
  {
   "cell_type": "code",
   "execution_count": null,
   "metadata": {},
   "outputs": [],
   "source": [
    "# Operators in Dictionaries\n",
    "morse = {\n",
    "\"A\" : \".-\", \n",
    "\"B\" : \"-...\", \n",
    "\"C\" : \"-.-.\", \n",
    "\"D\" : \"-..\", \n",
    "\"E\" : \".\", \n",
    "\"F\" : \"..-.\", \n",
    "\"G\" : \"--.\", \n",
    "\"H\" : \"....\", \n",
    "\"I\" : \"..\", \n",
    "\"J\" : \".---\", \n",
    "\"K\" : \"-.-\", \n",
    "\"L\" : \".-..\", \n",
    "\"M\" : \"--\", \n",
    "\"N\" : \"-.\", \n",
    "\"O\" : \"---\", \n",
    "\"P\" : \".--.\", \n",
    "\"Q\" : \"--.-\", \n",
    "\"R\" : \".-.\", \n",
    "\"S\" : \"...\", \n",
    "\"T\" : \"-\", \n",
    "\"U\" : \"..-\", \n",
    "\"V\" : \"...-\", \n",
    "\"W\" : \".--\", \n",
    "\"X\" : \"-..-\", \n",
    "\"Y\" : \"-.--\", \n",
    "\"Z\" : \"--..\", \n",
    "\"0\" : \"-----\", \n",
    "\"1\" : \".----\", \n",
    "\"2\" : \"..---\", \n",
    "\"3\" : \"...--\", \n",
    "\"4\" : \"....-\", \n",
    "\"5\" : \".....\", \n",
    "\"6\" : \"-....\", \n",
    "\"7\" : \"--...\", \n",
    "\"8\" : \"---..\", \n",
    "\"9\" : \"----.\", \n",
    "\".\" : \".-.-.-\", \n",
    "\",\" : \"--..--\"\n",
    "}\n",
    "\n",
    "print(len(morse))\n",
    "print(\"A\" in morse)\n",
    "print(\"B\" not in morse)"
   ]
  },
  {
   "cell_type": "code",
   "execution_count": null,
   "metadata": {},
   "outputs": [],
   "source": [
    "# pop() and popitem()\n",
    "\n",
    "# If D is a dictionary, then D.pop(k) removes the key k with its value from the dictionary D and returns the corresponding value as the return value, i.e. D[k].\n",
    "capitals = {\"Austria\":\"Vienna\", \"Germany\":\"Berlin\", \"Netherlands\":\"Amsterdam\"}\n",
    "c = capitals.pop(\"Germany\")\n",
    "print(c)\n",
    "\n",
    "# If we try to find out the capital of Switzerland in the previous example, we raise a KeyError. To prevent these errors, there is an elegant way. The method pop() has an optional second parameter, which can be used as a default value:\n",
    "c = capitals.pop(\"Switzerland\", \"Capital Not Found\")\n",
    "print(c)\n",
    "\n",
    "# popitem removes and returns an arbitrary (key,value) pair as a 2-tuple\n",
    "print(capitals.popitem())\n",
    "print(capitals.popitem())\n"
   ]
  },
  {
   "cell_type": "code",
   "execution_count": null,
   "metadata": {},
   "outputs": [],
   "source": [
    "# If you try to access a key which doesn't exist, you will get an error message\n",
    "# remedy\n",
    "locations = {\"Toronto\": \"Ontario\", \"Vancouver\": \"British Columbia\"}\n",
    "province = \"Ottawa\"\n",
    "\n",
    "if province in locations:\n",
    "    print(locations[province])\n",
    "else:\n",
    "    print(province, \"is not in locations\")\n",
    "\n"
   ]
  },
  {
   "cell_type": "code",
   "execution_count": null,
   "metadata": {},
   "outputs": [],
   "source": [
    "#  using the get() method. get() is not raising an error, if an index doesn't exist. In this case it will return None. It's also possible to set a default value, which will be returned, if an index doesn't exist:\n",
    "squares = {\n",
    "    1 : 1,\n",
    "    2 : 4,\n",
    "    3 : 9,\n",
    "    4 : 16\n",
    "}\n",
    "print(squares.get(2))\n",
    "print(squares.get(16))\n",
    "print(squares.get(22, \"Not in Dictionary\"))"
   ]
  },
  {
   "source": [
    "## Iterating over dictionaries"
   ],
   "cell_type": "markdown",
   "metadata": {}
  },
  {
   "cell_type": "code",
   "execution_count": null,
   "metadata": {},
   "outputs": [],
   "source": [
    "\n",
    "\n",
    "# No method is needed to iterate over the keys of a dictionary:\n",
    "d = {\"a\":123, \"b\":34, \"c\":304, \"d\":99}\n",
    "for key in d:\n",
    "     print(key) "
   ]
  },
  {
   "cell_type": "code",
   "execution_count": null,
   "metadata": {},
   "outputs": [],
   "source": [
    "# However, it's possible to use the method keys(), we will get the same result:\n",
    "\n",
    "for key in d.keys():\n",
    "     print(key) "
   ]
  },
  {
   "cell_type": "code",
   "execution_count": null,
   "metadata": {},
   "outputs": [],
   "source": [
    "# The method values() is a convenient way for iterating directly over the values:\n",
    "\n",
    "for value in d.values():\n",
    "    print(value)"
   ]
  },
  {
   "cell_type": "code",
   "execution_count": null,
   "metadata": {},
   "outputs": [],
   "source": [
    "# The above loop is logically equivalent to the following one:\n",
    "\n",
    "for key in d:\n",
    "    print(d[key])"
   ]
  },
  {
   "source": [
    "## The ways of accesing values in dictionary have different computational outcomes"
   ],
   "cell_type": "markdown",
   "metadata": {}
  },
  {
   "cell_type": "code",
   "execution_count": null,
   "metadata": {},
   "outputs": [],
   "source": [
    "%%timeit d = {\"a\":123, \"b\":34, \"c\":304, \"d\":99}\n",
    "for key in d.keys():\n",
    "    x = d[key]"
   ]
  },
  {
   "source": [
    "%%timeit d = {\"a\":123, \"b\":34, \"c\":304, \"d\":99}\n",
    "for value in d.values():\n",
    "    x = value"
   ],
   "cell_type": "code",
   "metadata": {},
   "execution_count": null,
   "outputs": []
  },
  {
   "source": [
    "## Conversion of dictionaries"
   ],
   "cell_type": "markdown",
   "metadata": {}
  },
  {
   "cell_type": "code",
   "execution_count": null,
   "metadata": {},
   "outputs": [],
   "source": [
    "# Lists from Dictionaries\n",
    "numbers = {\n",
    "    \"Harry\": 412,\n",
    "    \"Joanne\": 123,\n",
    "    \"Bob\": 4\n",
    "}\n",
    "items = numbers.items() # items view\n",
    "for item in items:\n",
    "    print(item)\n",
    "# List of tuples (k,v)\n",
    "items_list = list(items)\n",
    "print(\"items:\",items_list)\n",
    "\n",
    "val_view = numbers.values()\n",
    "val_list = list(val_view)\n",
    "print(\"value list:\",val_list)\n",
    "key_list = list(numbers.keys())\n",
    "print(\"key_list:\", key_list)\n"
   ]
  },
  {
   "cell_type": "code",
   "execution_count": null,
   "metadata": {
    "pycharm": {
     "name": "#%%\n"
    }
   },
   "outputs": [],
   "source": [
    "# Lists -> Dictionaries\n",
    "names = [\"Luke\", \"Leia\", \"Han\"]\n",
    "numbers = [1377, 22, 1]\n",
    "name_num_iterator = zip(names, numbers)\n",
    "print(name_num_iterator)\n",
    "name_number_dict = dict(name_num_iterator)\n",
    "print(name_number_dict)\n",
    "print(type(name_number_dict))"
   ]
  },
  {
   "cell_type": "code",
   "execution_count": null,
   "outputs": [],
   "source": [
    "#  What happens, if one of the two argument lists contains more elements than the other one?\n",
    "names = [\"Luke\", \"Leia\", \"Han\", \"Chewie\"]\n",
    "numbers = [1377, 22, 1]\n",
    "zipped = zip(names, numbers)\n",
    "# lets check how it looks in list form\n",
    "list_zip = list(zipped)\n",
    "print(list_zip)\n",
    "name_num = dict(list_zip)\n",
    "print(name_num)\n"
   ],
   "metadata": {
    "collapsed": false,
    "pycharm": {
     "name": "#%%\n"
    }
   }
  },
  {
   "cell_type": "markdown",
   "source": [
    "Python 2.x zip() used to return a list, now it's returning an iterator"
   ],
   "metadata": {
    "collapsed": false,
    "pycharm": {
     "name": "#%% md\n"
    }
   }
  },
  {
   "cell_type": "code",
   "execution_count": null,
   "outputs": [],
   "source": [
    "names = [\"Luke\", \"Leia\", \"Han\"]\n",
    "numbers = [1377, 22, 1]\n",
    "zipped = zip(names, numbers)\n",
    "lst_zipped_1 = list(zipped)\n",
    "lst_zipped_2 = list(zipped)\n",
    "\n",
    "print(lst_zipped_1)\n",
    "print(lst_zipped_2)"
   ],
   "metadata": {
    "collapsed": false,
    "pycharm": {
     "name": "#%%\n"
    }
   }
  },
  {
   "cell_type": "markdown",
   "source": [
    "## Sets and Frozensets\n",
    "The data type \"set\", which is a collection type,\n",
    "has been part of Python since version 2.4. A set contains an\n",
    " unordered collection of unique and immutable objects. The set data\n",
    " type is, as the name implies, a Python implementation of the sets as\n",
    " they are known from mathematics. This explains, why sets unlike lists\n",
    " or tuples can't have multiple occurrences of the same element."
   ],
   "metadata": {
    "collapsed": false
   }
  },
  {
   "cell_type": "code",
   "execution_count": null,
   "outputs": [],
   "source": [
    "x = set(\"This is a set example\")\n",
    "print(x)\n",
    "type(x)\n",
    "\n",
    "# set out of list\n",
    "x = set([1, 1,2,3])\n",
    "print(x)\n",
    "# set from tuple\n",
    "x = set((1, 1, 2, 3))\n",
    "print(x)\n",
    "\n",
    "# Sets are implemented in a way, which doesn't allow mutable objects\n",
    "try:\n",
    "    x = set([1,2,3], [1,1,3])\n",
    "except TypeError:\n",
    "    print(\"Mutable Object Detected\")\n",
    "\n",
    "# Since tuples are immutable this is OK:\n",
    "x = set(((1, 2, 3), (3, 3, 4), (1,2,3)))\n",
    "print(x)\n",
    "\n",
    "# Though sets can't contain mutable objects, sets are mutable:\n",
    "x.add(4)\n",
    "print(x)"
   ],
   "metadata": {
    "collapsed": false,
    "pycharm": {
     "name": "#%%\n"
    }
   }
  },
  {
   "cell_type": "markdown",
   "source": [
    "### Frozensets\n",
    "Frozensets are like sets except that they cannot be changed, i.e. they are immutable:"
   ],
   "metadata": {
    "collapsed": false
   }
  },
  {
   "cell_type": "code",
   "execution_count": null,
   "outputs": [],
   "source": [
    "numbers = frozenset([1, 2, 3])\n",
    "try:\n",
    "    numbers.add(4)\n",
    "except AttributeError:\n",
    "    print(\"frozenset does not have add()\")"
   ],
   "metadata": {
    "collapsed": false,
    "pycharm": {
     "name": "#%%\n"
    }
   }
  },
  {
   "cell_type": "code",
   "execution_count": null,
   "outputs": [],
   "source": [
    "nums = {1, 2, 3, 4, 3}\n",
    "print(type(nums))\n",
    "print(nums)\n",
    "# There is no literal for creating empty set"
   ],
   "metadata": {
    "collapsed": false,
    "pycharm": {
     "name": "#%%\n"
    }
   }
  },
  {
   "cell_type": "markdown",
   "source": [
    "### Set methods"
   ],
   "metadata": {
    "collapsed": false
   }
  },
  {
   "cell_type": "code",
   "execution_count": null,
   "outputs": [],
   "source": [
    "numbers = {1}\n",
    "numbers.add(2)\n",
    "print(numbers)\n",
    "\n",
    "numbers.clear()\n",
    "print(\"numbers:\", numbers)\n",
    "\n",
    "# Shallow copy\n",
    "more_cities = {\"Winterthur\",\"Schaffhausen\",\"St. Gallen\"}\n",
    "cities_backup = more_cities.copy()\n",
    "more_cities.clear()\n",
    "print(cities_backup)\n",
    "\n",
    "more_cities = {\"Winterthur\",\"Schaffhausen\",\"St. Gallen\"}\n",
    "cities_backup = more_cities\n",
    "more_cities.clear()\n",
    "print(cities_backup)\n",
    "\n",
    "# difference\n",
    "x = {1, 2, 3}\n",
    "y = {1, 2, 4}\n",
    "z = {2, 4, 5}\n",
    "\n",
    "print(x.difference(z))\n",
    "print(x.difference(y).difference(z))\n",
    "\n",
    "# difference -\n",
    "print(x - y - z)\n",
    "\n",
    "# difference_update()\n",
    "# x.difference_update(y) is the same as \"x = x - y\" or even x -= y works\n",
    "print(\"x:\", x)\n",
    "print(\"z:\", z)\n",
    "x.difference_update(z)\n",
    "print(\"x:\", x)\n",
    "print(\"z:\", z)\n",
    "\n",
    "x = {1, 2, 3}\n",
    "y = {3, 4, 5}\n",
    "x -= y\n",
    "print(x)\n",
    "\n"
   ],
   "metadata": {
    "collapsed": false,
    "pycharm": {
     "name": "#%%\n"
    }
   }
  },
  {
   "cell_type": "code",
   "execution_count": null,
   "outputs": [],
   "source": [
    "# discard\n",
    "# If el is not a member of the set, nothing will be done.\n",
    "x = {1, 2, 3}\n",
    "x.discard(3)\n",
    "print(x)\n",
    "x.discard(3)"
   ],
   "metadata": {
    "collapsed": false,
    "pycharm": {
     "name": "#%%\n"
    }
   }
  },
  {
   "cell_type": "code",
   "execution_count": null,
   "outputs": [],
   "source": [
    "# remove(el)\n",
    "# Works like discard(), but if el is not a member of the set, a KeyError will be raised.\n",
    "x = {1, 2, 3}\n",
    "try:\n",
    "    x.remove(3)\n",
    "    x.remove(3)\n",
    "except KeyError:\n",
    "    print(\"KeyError\")\n"
   ],
   "metadata": {
    "collapsed": false,
    "pycharm": {
     "name": "#%%\n"
    }
   }
  },
  {
   "cell_type": "code",
   "execution_count": null,
   "outputs": [],
   "source": [
    "# union(s) (A U B)\n",
    "x = {1, 2, 3}\n",
    "y = {3, 4, 5}\n",
    "x_u_y = x.union(y)\n",
    "print(x_u_y)\n",
    "## it can be written as:\n",
    "x_u_y = x | y\n",
    "print(x_u_y)"
   ],
   "metadata": {
    "collapsed": false,
    "pycharm": {
     "name": "#%%\n"
    }
   }
  },
  {
   "cell_type": "code",
   "execution_count": null,
   "outputs": [],
   "source": [
    "# Intersection\n",
    "x = {1, 2, 3}\n",
    "y = {3, 4, 5}\n",
    "\n",
    "x_and_y = x.intersection(y)\n",
    "print(x_and_y)\n",
    "\n",
    "# It can be written as\n",
    "x_and_y = x & y\n",
    "print(x_and_y)\n"
   ],
   "metadata": {
    "collapsed": false,
    "pycharm": {
     "name": "#%%\n"
    }
   }
  },
  {
   "cell_type": "code",
   "execution_count": null,
   "outputs": [],
   "source": [
    "# isdisjoint()\n",
    "## This method returns True if two sets have a null intersection\n",
    "\n",
    "x = {1, 2, 3}\n",
    "y = {4, 5, 6}\n",
    "print(x.isdisjoint(y))"
   ],
   "metadata": {
    "collapsed": false,
    "pycharm": {
     "name": "#%%\n"
    }
   }
  },
  {
   "cell_type": "code",
   "execution_count": 35,
   "outputs": [
    {
     "name": "stdout",
     "output_type": "stream",
     "text": [
      "True\n",
      "True\n",
      "True\n",
      "True\n",
      "False\n",
      "True\n",
      "True\n",
      "False\n"
     ]
    }
   ],
   "source": [
    "# issubset()/superset...\n",
    "# x.issubset(y) returns True, if x is a subset of y.\n",
    "# \"<=\" is an abbreviation for \"Subset of\"\n",
    "x = {1, 2, 3}\n",
    "y = {4, 5, 6, 1, 2, 3}\n",
    "print(x.issubset(y))\n",
    "print(x <= y)\n",
    "\n",
    "\n",
    "# \"<\" is used to check if a set is a proper subset of a set.\n",
    "print(x < y)\n",
    "print(x <= x)\n",
    "print(x < x)\n",
    "# \">=\" for \"superset of\"\n",
    "print(y.issuperset(x))\n",
    "print(y.issuperset(y))\n",
    "# \">\" is used to check if a set is a proper superset of a set.\n",
    "print(y > y)"
   ],
   "metadata": {
    "collapsed": false,
    "pycharm": {
     "name": "#%%\n"
    }
   }
  },
  {
   "cell_type": "code",
   "execution_count": 38,
   "outputs": [
    {
     "name": "stdout",
     "output_type": "stream",
     "text": [
      "1\n",
      "2\n",
      "KeyError\n"
     ]
    }
   ],
   "source": [
    "# pop()\n",
    "# pop() removes and returns an arbitrary set element. The method raises a KeyError if the set is empty.\n",
    "x = {1, 2}\n",
    "try:\n",
    "    print(x.pop())\n",
    "    print(x.pop())\n",
    "    print(x.pop())\n",
    "except KeyError:\n",
    "    print(\"KeyError\")"
   ],
   "metadata": {
    "collapsed": false,
    "pycharm": {
     "name": "#%%\n"
    }
   }
  }
 ],
 "metadata": {
  "kernelspec": {
   "display_name": "Python 3",
   "language": "python",
   "name": "python3"
  },
  "language_info": {
   "codemirror_mode": {
    "name": "ipython",
    "version": 2
   },
   "file_extension": ".py",
   "mimetype": "text/x-python",
   "name": "python",
   "nbconvert_exporter": "python",
   "pygments_lexer": "ipython2",
   "version": "3.9.1-final"
  }
 },
 "nbformat": 4,
 "nbformat_minor": 0
}